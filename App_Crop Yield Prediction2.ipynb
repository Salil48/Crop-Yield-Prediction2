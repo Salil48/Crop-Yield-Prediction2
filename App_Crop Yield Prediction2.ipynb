{
 "cells": [
  {
   "cell_type": "code",
   "execution_count": null,
   "id": "8e543d35-2ec0-45c0-9848-cffd0397900b",
   "metadata": {},
   "outputs": [],
   "source": [
    "%%writefile app2.py\n",
    "import streamlit as st\n",
    "import joblib\n",
    "import numpy as np\n",
    "\n",
    "# Load model and preprocessing files\n",
    "model = joblib.load('yield_prediction_model.pkl')\n",
    "scaler = joblib.load('scaler.pkl')\n",
    "label_encoders = joblib.load('label_encoders.pkl')\n",
    "rmse= joblib.load('rmse.pkl')\n",
    "\n",
    "\n",
    "# Title and inputs\n",
    "st.title(\"Crop Yield Prediction\")\n",
    "st.write(\"Enter the farm and crop details below to get a yield prediction.\")\n",
    "\n",
    "# Inputs for each feature\n",
    "crop_type = st.selectbox(\"Crop Type\", label_encoders['Crop_Type'].classes_)\n",
    "irrigation_type = st.selectbox(\"Irrigation Type\", label_encoders['Irrigation_Type'].classes_)\n",
    "soil_type = st.selectbox(\"Soil Type\", label_encoders['Soil_Type'].classes_)\n",
    "season = st.selectbox(\"Season\", label_encoders['Season'].classes_)\n",
    "farm_area = st.number_input(\"Farm Area (acres)\", min_value=0.0)\n",
    "fertilizer_used = st.number_input(\"Fertilizer Used (tons)\", min_value=0.0)\n",
    "pesticide_used = st.number_input(\"Pesticide Used (kg)\", min_value=0.0)\n",
    "water_usage = st.number_input(\"Water Usage (cubic meters)\", min_value=0.0)\n",
    "\n",
    "# Encode categorical inputs and scale numerical inputs\n",
    "inputs = np.array([\n",
    "    label_encoders['Crop_Type'].transform([crop_type])[0],\n",
    "    label_encoders['Irrigation_Type'].transform([irrigation_type])[0],\n",
    "    label_encoders['Soil_Type'].transform([soil_type])[0],\n",
    "    label_encoders['Season'].transform([season])[0],\n",
    "    farm_area, fertilizer_used, pesticide_used, water_usage\n",
    "]).reshape(1, -1)\n",
    "inputs[:, 4:] = scaler.transform(inputs[:, 4:])\n",
    "\n",
    "# Predict yield\n",
    "if st.button(\"Predict Yield\"):\n",
    "    prediction = model.predict(inputs)\n",
    "    st.write(f\"Predicted Crop Yield: {prediction[0]:.2f} tons\")\n",
    "    st.write(f\"Error :{rmse}\")"
   ]
  },
  {
   "cell_type": "code",
   "execution_count": 1,
   "id": "ff98e2c2-2972-4a5f-b780-ca09f1dc6baa",
   "metadata": {},
   "outputs": [
    {
     "name": "stdout",
     "output_type": "stream",
     "text": [
      "Writing app2.py\n"
     ]
    }
   ],
   "source": [
    "%%writefile app2.py\n",
    "import streamlit as st\n",
    "import joblib\n",
    "import numpy as np\n",
    "import os\n",
    "\n",
    "# Load model and preprocessing files\n",
    "try:\n",
    "    model = joblib.load(os.path.join(os.getcwd(), 'yield_prediction_model.pkl'))\n",
    "    scaler = joblib.load(os.path.join(os.getcwd(), 'scaler.pkl'))\n",
    "    label_encoders = joblib.load(os.path.join(os.getcwd(), 'label_encoders.pkl'))\n",
    "    rmse = joblib.load(os.path.join(os.getcwd(), 'rmse.pkl'))\n",
    "except FileNotFoundError as e:\n",
    "    st.error(f\"File not found: {e}\")\n",
    "    st.stop()\n",
    "except Exception as e:\n",
    "    st.error(f\"Error loading model or files: {e}\")\n",
    "    st.stop()\n",
    "\n",
    "# Title and inputs\n",
    "st.title(\"Crop Yield Prediction\")\n",
    "st.write(\"Enter the farm and crop details below to get a yield prediction.\")\n",
    "\n",
    "# Inputs for each feature\n",
    "crop_type = st.selectbox(\"Crop Type\", label_encoders['Crop_Type'].classes_)\n",
    "irrigation_type = st.selectbox(\"Irrigation Type\", label_encoders['Irrigation_Type'].classes_)\n",
    "soil_type = st.selectbox(\"Soil Type\", label_encoders['Soil_Type'].classes_)\n",
    "season = st.selectbox(\"Season\", label_encoders['Season'].classes_)\n",
    "farm_area = st.number_input(\"Farm Area (acres)\", min_value=0.0)\n",
    "fertilizer_used = st.number_input(\"Fertilizer Used (tons)\", min_value=0.0)\n",
    "pesticide_used = st.number_input(\"Pesticide Used (kg)\", min_value=0.0)\n",
    "water_usage = st.number_input(\"Water Usage (cubic meters)\", min_value=0.0)\n",
    "\n",
    "# Predict yield\n",
    "if st.button(\"Predict Yield\"):\n",
    "    try:\n",
    "        # Encode and scale inputs\n",
    "        inputs = np.array([\n",
    "            label_encoders['Crop_Type'].transform([crop_type])[0],\n",
    "            label_encoders['Irrigation_Type'].transform([irrigation_type])[0],\n",
    "            label_encoders['Soil_Type'].transform([soil_type])[0],\n",
    "            label_encoders['Season'].transform([season])[0],\n",
    "            farm_area, fertilizer_used, pesticide_used, water_usage\n",
    "        ]).reshape(1, -1)\n",
    "\n",
    "        inputs[:, 4:] = scaler.transform(inputs[:, 4:])\n",
    "        \n",
    "        # Make prediction\n",
    "        prediction = model.predict(inputs)\n",
    "        st.write(f\"Predicted Crop Yield: {prediction[0]:.2f} tons\")\n",
    "        st.write(f\"Error (RMSE): {rmse}\")\n",
    "    except Exception as e:\n",
    "        st.error(f\"Prediction error: {e}\")\n"
   ]
  },
  {
   "cell_type": "code",
   "execution_count": null,
   "id": "c95fae47-310b-4d40-afd7-efb214605934",
   "metadata": {},
   "outputs": [],
   "source": [
    "# Run Streamlit in the background\n",
    "! streamlit run app2.py & npx localtunnel --port 8501"
   ]
  },
  {
   "cell_type": "code",
   "execution_count": null,
   "id": "ee1e75e3-012b-4f3c-8f8d-b82adddbf12c",
   "metadata": {},
   "outputs": [],
   "source": []
  }
 ],
 "metadata": {
  "kernelspec": {
   "display_name": "Python 3 (ipykernel)",
   "language": "python",
   "name": "python3"
  },
  "language_info": {
   "codemirror_mode": {
    "name": "ipython",
    "version": 3
   },
   "file_extension": ".py",
   "mimetype": "text/x-python",
   "name": "python",
   "nbconvert_exporter": "python",
   "pygments_lexer": "ipython3",
   "version": "3.13.0"
  }
 },
 "nbformat": 4,
 "nbformat_minor": 5
}
